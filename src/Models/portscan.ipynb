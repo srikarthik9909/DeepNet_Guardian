{
 "cells": [
  {
   "cell_type": "markdown",
   "metadata": {},
   "source": [
    "# Port Scan Attachk Detection (LSTM Model)"
   ]
  },
  {
   "cell_type": "code",
   "execution_count": 2,
   "metadata": {},
   "outputs": [],
   "source": [
    "# importing the Required Moudules\n",
    "\n",
    "import os \n",
    "import math\n",
    "import pandas as pd\n",
    "import numpy as  np\n",
    "import tensorflow as tf\n",
    "import matplotlib.pyplot as plt\n",
    "\n",
    "from tensorflow import keras\n",
    "from datetime import datetime\n",
    "from sklearn.preprocessing import MinMaxScaler, StandardScaler # type: ignore\n",
    "from tensorflow.keras.models import Sequential, save_model, load_model, Model # type: ignore\n",
    "from tensorflow.keras.layers import LSTM, Dense, Dropout # type: ignore\n",
    "from tensorflow.keras.losses import MeanSquaredError # type: ignore\n",
    "from tensorflow.keras.optimizers import Adam # type: ignore\n",
    "from sklearn.metrics import mean_squared_error, mean_absolute_error, mean_absolute_percentage_error # type: ignore"
   ]
  },
  {
   "cell_type": "markdown",
   "metadata": {},
   "source": [
    "# Data Fetching"
   ]
  },
  {
   "cell_type": "code",
   "execution_count": 9,
   "metadata": {},
   "outputs": [],
   "source": [
    "# Loading the Data Sets\n",
    "main_dataset = pd.read_csv(r'C:\\Users\\srika\\OneDrive\\Desktop\\DeepNet\\Data\\portscan copy.csv')"
   ]
  },
  {
   "cell_type": "code",
   "execution_count": 10,
   "metadata": {},
   "outputs": [
    {
     "name": "stdout",
     "output_type": "stream",
     "text": [
      "Index([' Destination Port', ' Flow Duration', ' Total Fwd Packets',\n",
      "       ' Total Backward Packets', 'Total Length of Fwd Packets',\n",
      "       ' Total Length of Bwd Packets', ' Fwd Packet Length Max',\n",
      "       ' Fwd Packet Length Min', ' Fwd Packet Length Mean',\n",
      "       ' Fwd Packet Length Std', 'Bwd Packet Length Max',\n",
      "       ' Bwd Packet Length Min', ' Bwd Packet Length Mean',\n",
      "       ' Bwd Packet Length Std', 'Flow Bytes/s', ' Flow Packets/s',\n",
      "       ' Flow IAT Mean', ' Flow IAT Std', ' Flow IAT Max', ' Flow IAT Min',\n",
      "       'Fwd IAT Total', ' Fwd IAT Mean', ' Fwd IAT Std', ' Fwd IAT Max',\n",
      "       ' Fwd IAT Min', 'Bwd IAT Total', ' Bwd IAT Mean', ' Bwd IAT Std',\n",
      "       ' Bwd IAT Max', ' Bwd IAT Min', 'Fwd PSH Flags', ' Bwd PSH Flags',\n",
      "       ' Fwd URG Flags', ' Bwd URG Flags', ' Fwd Header Length',\n",
      "       ' Bwd Header Length', 'Fwd Packets/s', ' Bwd Packets/s',\n",
      "       ' Min Packet Length', ' Max Packet Length', ' Packet Length Mean',\n",
      "       ' Packet Length Std', ' Packet Length Variance', 'FIN Flag Count',\n",
      "       ' SYN Flag Count', ' RST Flag Count', ' PSH Flag Count',\n",
      "       ' ACK Flag Count', ' URG Flag Count', ' CWE Flag Count',\n",
      "       ' ECE Flag Count', ' Down/Up Ratio', ' Average Packet Size',\n",
      "       ' Avg Fwd Segment Size', ' Avg Bwd Segment Size',\n",
      "       ' Fwd Header Length.1', 'Fwd Avg Bytes/Bulk', ' Fwd Avg Packets/Bulk',\n",
      "       ' Fwd Avg Bulk Rate', ' Bwd Avg Bytes/Bulk', ' Bwd Avg Packets/Bulk',\n",
      "       'Bwd Avg Bulk Rate', 'Subflow Fwd Packets', ' Subflow Fwd Bytes',\n",
      "       ' Subflow Bwd Packets', ' Subflow Bwd Bytes', 'Init_Win_bytes_forward',\n",
      "       ' Init_Win_bytes_backward', ' act_data_pkt_fwd',\n",
      "       ' min_seg_size_forward', 'Active Mean', ' Active Std', ' Active Max',\n",
      "       ' Active Min', 'Idle Mean', ' Idle Std', ' Idle Max', ' Idle Min',\n",
      "       ' Label'],\n",
      "      dtype='object')\n"
     ]
    }
   ],
   "source": [
    "print(main_dataset.columns)"
   ]
  },
  {
   "cell_type": "code",
   "execution_count": 11,
   "metadata": {},
   "outputs": [
    {
     "name": "stderr",
     "output_type": "stream",
     "text": [
      "C:\\Users\\srika\\AppData\\Local\\Temp\\ipykernel_12912\\741359882.py:22: SettingWithCopyWarning: \n",
      "A value is trying to be set on a copy of a slice from a DataFrame.\n",
      "Try using .loc[row_indexer,col_indexer] = value instead\n",
      "\n",
      "See the caveats in the documentation: https://pandas.pydata.org/pandas-docs/stable/user_guide/indexing.html#returning-a-view-versus-a-copy\n",
      "  targeted_dataset[\"Label\"] = targeted_dataset[\"Label\"].apply(lambda x: 0 if x.lower() == \"benign\" else 1)\n"
     ]
    }
   ],
   "source": [
    "# Remove leading and trailing spaces from column names\n",
    "main_dataset.columns = main_dataset.columns.str.strip()\n",
    "\n",
    "# Define selected features correctly (without extra spaces)\n",
    "selected_features = [\n",
    "    'Flow Packets/s', 'Fwd Packets/s', 'Bwd Packets/s', 'SYN Flag Count',\n",
    "    'RST Flag Count', 'FIN Flag Count', 'ACK Flag Count', 'PSH Flag Count',\n",
    "    'Flow IAT Mean', 'Flow IAT Std', 'Flow IAT Max', 'Min Packet Length',\n",
    "    'Max Packet Length', 'Packet Length Std', 'Total Fwd Packets',\n",
    "    'Total Backward Packets', 'Init_Win_bytes_forward',\n",
    "    'Init_Win_bytes_backward', 'Subflow Fwd Packets', 'Subflow Bwd Packets'\n",
    "]\n",
    "\n",
    "\n",
    "targeted_feature = [\"Label\"]\n",
    "\n",
    "# Select only existing features\n",
    "dataset = main_dataset[selected_features]\n",
    "targeted_dataset = main_dataset[targeted_feature]\n",
    "\n",
    "# Convert labels (case-insensitive comparison)\n",
    "targeted_dataset[\"Label\"] = targeted_dataset[\"Label\"].apply(lambda x: 0 if x.lower() == \"benign\" else 1)\n"
   ]
  },
  {
   "cell_type": "code",
   "execution_count": 12,
   "metadata": {},
   "outputs": [
    {
     "name": "stdout",
     "output_type": "stream",
     "text": [
      "Label    1\n",
      "Name: 277750, dtype: int64\n"
     ]
    }
   ],
   "source": [
    "print(targeted_dataset.iloc[277750])"
   ]
  },
  {
   "cell_type": "code",
   "execution_count": 13,
   "metadata": {},
   "outputs": [
    {
     "name": "stdout",
     "output_type": "stream",
     "text": [
      "   Flow Packets/s  Fwd Packets/s  Bwd Packets/s  SYN Flag Count  \\\n",
      "0       67.122468      32.376720      34.745748               0   \n",
      "1       64.425518      31.075838      33.349680               0   \n",
      "2    12500.000000    6250.000000    6250.000000               0   \n",
      "3       63.675308      31.454068      32.221240               0   \n",
      "4    38961.038960   12987.012990   25974.025970               0   \n",
      "5     8196.721311    4098.360656    4098.360656               0   \n",
      "6       61.962656      31.363813      30.598842               0   \n",
      "7    36585.365850   12195.121950   24390.243900               0   \n",
      "8    11695.906430    5847.953216    5847.953216               0   \n",
      "9     9523.809524    4761.904762    4761.904762               0   \n",
      "\n",
      "   RST Flag Count  FIN Flag Count  ACK Flag Count  PSH Flag Count  \\\n",
      "0               0               0               0               1   \n",
      "1               0               0               0               1   \n",
      "2               0               0               1               0   \n",
      "3               0               0               0               1   \n",
      "4               0               0               1               0   \n",
      "5               0               0               1               0   \n",
      "6               0               0               0               1   \n",
      "7               0               0               1               0   \n",
      "8               0               0               1               0   \n",
      "9               0               0               1               0   \n",
      "\n",
      "   Flow IAT Mean   Flow IAT Std  Flow IAT Max  Min Packet Length  \\\n",
      "0    15075.50000  104051.399700        948537                  0   \n",
      "1    15706.58333  104861.870100        955790                  0   \n",
      "2      160.00000       0.000000           160                  0   \n",
      "3    15896.19512  106554.899000        956551                  0   \n",
      "4       38.50000      14.849242            49                  0   \n",
      "5      244.00000       0.000000           244                  0   \n",
      "6    16340.48750  107311.878700        956263                  0   \n",
      "7       41.00000      11.313709            49                  0   \n",
      "8      171.00000       0.000000           171                  0   \n",
      "9      210.00000       0.000000           210                  0   \n",
      "\n",
      "   Max Packet Length  Packet Length Std  Total Fwd Packets  \\\n",
      "0                976         239.686848                 41   \n",
      "1                976         239.686848                 41   \n",
      "2                  0           0.000000                  1   \n",
      "3                976         241.642791                 41   \n",
      "4                  0           0.000000                  1   \n",
      "5                  0           0.000000                  1   \n",
      "6                976         243.964772                 41   \n",
      "7                  0           0.000000                  1   \n",
      "8                  0           0.000000                  1   \n",
      "9                  0           0.000000                  1   \n",
      "\n",
      "   Total Backward Packets  Init_Win_bytes_forward  Init_Win_bytes_backward  \\\n",
      "0                      44                   29200                      243   \n",
      "1                      44                   29200                      243   \n",
      "2                       1                     290                      243   \n",
      "3                      42                   29200                      243   \n",
      "4                       2                     243                      290   \n",
      "5                       1                     290                      243   \n",
      "6                      40                   29200                      243   \n",
      "7                       2                     243                      290   \n",
      "8                       1                     290                      243   \n",
      "9                       1                     290                      243   \n",
      "\n",
      "   Subflow Fwd Packets  Subflow Bwd Packets  \n",
      "0                   41                   44  \n",
      "1                   41                   44  \n",
      "2                    1                    1  \n",
      "3                   41                   42  \n",
      "4                    1                    2  \n",
      "5                    1                    1  \n",
      "6                   41                   40  \n",
      "7                    1                    2  \n",
      "8                    1                    1  \n",
      "9                    1                    1  \n",
      "Flow Packets/s             286467\n",
      "Fwd Packets/s              286467\n",
      "Bwd Packets/s              286467\n",
      "SYN Flag Count             286467\n",
      "RST Flag Count             286467\n",
      "FIN Flag Count             286467\n",
      "ACK Flag Count             286467\n",
      "PSH Flag Count             286467\n",
      "Flow IAT Mean              286467\n",
      "Flow IAT Std               286467\n",
      "Flow IAT Max               286467\n",
      "Min Packet Length          286467\n",
      "Max Packet Length          286467\n",
      "Packet Length Std          286467\n",
      "Total Fwd Packets          286467\n",
      "Total Backward Packets     286467\n",
      "Init_Win_bytes_forward     286467\n",
      "Init_Win_bytes_backward    286467\n",
      "Subflow Fwd Packets        286467\n",
      "Subflow Bwd Packets        286467\n",
      "dtype: int64\n",
      "   Label\n",
      "0      0\n",
      "1      0\n",
      "2      0\n",
      "3      0\n",
      "4      0\n",
      "5      0\n",
      "6      0\n",
      "7      0\n",
      "8      0\n",
      "9      0\n",
      "Label    286467\n",
      "dtype: int64\n"
     ]
    }
   ],
   "source": [
    "print(dataset.head(10))\n",
    "print(dataset.count())\n",
    "print(targeted_dataset.head(10))\n",
    "print(targeted_dataset.count())"
   ]
  },
  {
   "cell_type": "code",
   "execution_count": 14,
   "metadata": {},
   "outputs": [
    {
     "name": "stdout",
     "output_type": "stream",
     "text": [
      "   Flow Packets/s  Fwd Packets/s  Bwd Packets/s  SYN Flag Count  \\\n",
      "0       67.122468      32.376720      34.745748               0   \n",
      "1       64.425518      31.075838      33.349680               0   \n",
      "2    12500.000000    6250.000000    6250.000000               0   \n",
      "3       63.675308      31.454068      32.221240               0   \n",
      "4    38961.038960   12987.012990   25974.025970               0   \n",
      "\n",
      "   RST Flag Count  FIN Flag Count  ACK Flag Count  PSH Flag Count  \\\n",
      "0               0               0               0               1   \n",
      "1               0               0               0               1   \n",
      "2               0               0               1               0   \n",
      "3               0               0               0               1   \n",
      "4               0               0               1               0   \n",
      "\n",
      "   Flow IAT Mean   Flow IAT Std  Flow IAT Max  Min Packet Length  \\\n",
      "0    15075.50000  104051.399700        948537                  0   \n",
      "1    15706.58333  104861.870100        955790                  0   \n",
      "2      160.00000       0.000000           160                  0   \n",
      "3    15896.19512  106554.899000        956551                  0   \n",
      "4       38.50000      14.849242            49                  0   \n",
      "\n",
      "   Max Packet Length  Packet Length Std  Total Fwd Packets  \\\n",
      "0                976         239.686848                 41   \n",
      "1                976         239.686848                 41   \n",
      "2                  0           0.000000                  1   \n",
      "3                976         241.642791                 41   \n",
      "4                  0           0.000000                  1   \n",
      "\n",
      "   Total Backward Packets  Init_Win_bytes_forward  Init_Win_bytes_backward  \\\n",
      "0                      44                   29200                      243   \n",
      "1                      44                   29200                      243   \n",
      "2                       1                     290                      243   \n",
      "3                      42                   29200                      243   \n",
      "4                       2                     243                      290   \n",
      "\n",
      "   Subflow Fwd Packets  Subflow Bwd Packets  \n",
      "0                   41                   44  \n",
      "1                   41                   44  \n",
      "2                    1                    1  \n",
      "3                   41                   42  \n",
      "4                    1                    2  \n",
      "   Label\n",
      "0      0\n",
      "1      0\n",
      "2      0\n",
      "3      0\n",
      "4      0\n"
     ]
    }
   ],
   "source": [
    "print(dataset.head())\n",
    "print(targeted_dataset.head())"
   ]
  },
  {
   "cell_type": "markdown",
   "metadata": {},
   "source": [
    "# Data Pre-processing"
   ]
  },
  {
   "cell_type": "code",
   "execution_count": 15,
   "metadata": {},
   "outputs": [
    {
     "name": "stdout",
     "output_type": "stream",
     "text": [
      "Null values in each column:\n",
      " Flow Packets/s             0\n",
      "Fwd Packets/s              0\n",
      "Bwd Packets/s              0\n",
      "SYN Flag Count             0\n",
      "RST Flag Count             0\n",
      "FIN Flag Count             0\n",
      "ACK Flag Count             0\n",
      "PSH Flag Count             0\n",
      "Flow IAT Mean              0\n",
      "Flow IAT Std               0\n",
      "Flow IAT Max               0\n",
      "Min Packet Length          0\n",
      "Max Packet Length          0\n",
      "Packet Length Std          0\n",
      "Total Fwd Packets          0\n",
      "Total Backward Packets     0\n",
      "Init_Win_bytes_forward     0\n",
      "Init_Win_bytes_backward    0\n",
      "Subflow Fwd Packets        0\n",
      "Subflow Bwd Packets        0\n",
      "dtype: int64\n",
      "Null values in each column:\n",
      " Label    0\n",
      "dtype: int64\n"
     ]
    }
   ],
   "source": [
    "# Checking Null Values\n",
    "null_values = dataset.isnull().sum()\n",
    "targeted_null_values = targeted_dataset.isnull().sum()\n",
    "print(\"Null values in each column:\\n\", null_values)\n",
    "print(\"Null values in each column:\\n\", targeted_null_values)"
   ]
  },
  {
   "cell_type": "markdown",
   "metadata": {},
   "source": [
    "# Data Normalization"
   ]
  },
  {
   "cell_type": "code",
   "execution_count": 16,
   "metadata": {},
   "outputs": [
    {
     "name": "stdout",
     "output_type": "stream",
     "text": [
      "Checking for NaN or infinite values...\n",
      "Flow Packets/s             0\n",
      "Fwd Packets/s              0\n",
      "Bwd Packets/s              0\n",
      "SYN Flag Count             0\n",
      "RST Flag Count             0\n",
      "FIN Flag Count             0\n",
      "ACK Flag Count             0\n",
      "PSH Flag Count             0\n",
      "Flow IAT Mean              0\n",
      "Flow IAT Std               0\n",
      "Flow IAT Max               0\n",
      "Min Packet Length          0\n",
      "Max Packet Length          0\n",
      "Packet Length Std          0\n",
      "Total Fwd Packets          0\n",
      "Total Backward Packets     0\n",
      "Init_Win_bytes_forward     0\n",
      "Init_Win_bytes_backward    0\n",
      "Subflow Fwd Packets        0\n",
      "Subflow Bwd Packets        0\n",
      "dtype: int64\n",
      "Flow Packets/s             371\n",
      "Fwd Packets/s                0\n",
      "Bwd Packets/s                0\n",
      "SYN Flag Count               0\n",
      "RST Flag Count               0\n",
      "FIN Flag Count               0\n",
      "ACK Flag Count               0\n",
      "PSH Flag Count               0\n",
      "Flow IAT Mean                0\n",
      "Flow IAT Std                 0\n",
      "Flow IAT Max                 0\n",
      "Min Packet Length            0\n",
      "Max Packet Length            0\n",
      "Packet Length Std            0\n",
      "Total Fwd Packets            0\n",
      "Total Backward Packets       0\n",
      "Init_Win_bytes_forward       0\n",
      "Init_Win_bytes_backward      0\n",
      "Subflow Fwd Packets          0\n",
      "Subflow Bwd Packets          0\n",
      "dtype: int64\n",
      "Unique values in each column:\n",
      "Flow Packets/s             68846\n",
      "Fwd Packets/s              68264\n",
      "Bwd Packets/s              63349\n",
      "SYN Flag Count                 2\n",
      "RST Flag Count                 2\n",
      "FIN Flag Count                 2\n",
      "ACK Flag Count                 2\n",
      "PSH Flag Count                 2\n",
      "Flow IAT Mean              68083\n",
      "Flow IAT Std               59167\n",
      "Flow IAT Max               47507\n",
      "Min Packet Length            107\n",
      "Max Packet Length           3226\n",
      "Packet Length Std          24733\n",
      "Total Fwd Packets            384\n",
      "Total Backward Packets       486\n",
      "Init_Win_bytes_forward      2922\n",
      "Init_Win_bytes_backward     3053\n",
      "Subflow Fwd Packets          384\n",
      "Subflow Bwd Packets          486\n",
      "dtype: int64\n"
     ]
    },
    {
     "name": "stderr",
     "output_type": "stream",
     "text": [
      "C:\\Users\\srika\\AppData\\Local\\Temp\\ipykernel_12912\\623634990.py:15: SettingWithCopyWarning: \n",
      "A value is trying to be set on a copy of a slice from a DataFrame.\n",
      "Try using .loc[row_indexer,col_indexer] = value instead\n",
      "\n",
      "See the caveats in the documentation: https://pandas.pydata.org/pandas-docs/stable/user_guide/indexing.html#returning-a-view-versus-a-copy\n",
      "  dataset[column] = dataset[column].replace([np.inf, -np.inf], np.nan)\n"
     ]
    }
   ],
   "source": [
    "# Normalize dataset\n",
    "column = ['Flow Packets/s', 'Fwd Packets/s', 'Bwd Packets/s', 'SYN Flag Count',\n",
    "    'RST Flag Count', 'FIN Flag Count', 'ACK Flag Count', 'PSH Flag Count',\n",
    "    'Flow IAT Mean', 'Flow IAT Std', 'Flow IAT Max', 'Min Packet Length',\n",
    "    'Max Packet Length', 'Packet Length Std', 'Total Fwd Packets',\n",
    "    'Total Backward Packets', 'Init_Win_bytes_forward',\n",
    "    'Init_Win_bytes_backward', 'Subflow Fwd Packets', 'Subflow Bwd Packets']\n",
    "\n",
    "# Check for NaN or infinite values\n",
    "print(\"Checking for NaN or infinite values...\")\n",
    "print(dataset[column].isnull().sum())  # NaN check\n",
    "print(np.isinf(dataset[column]).sum())  # Infinite check\n",
    "\n",
    "# Replace infinite values with NaN\n",
    "dataset[column] = dataset[column].replace([np.inf, -np.inf], np.nan)\n",
    "\n",
    "# Drop rows with NaN values\n",
    "dataset = dataset.dropna(subset=column)\n",
    "\n",
    "# Check for constant columns\n",
    "print(\"Unique values in each column:\")\n",
    "print(dataset[column].nunique())"
   ]
  },
  {
   "cell_type": "code",
   "execution_count": 17,
   "metadata": {},
   "outputs": [
    {
     "name": "stdout",
     "output_type": "stream",
     "text": [
      "Minimum values after scaling:\n",
      "Flow Packets/s             0.0\n",
      "Fwd Packets/s              0.0\n",
      "Bwd Packets/s              0.0\n",
      "SYN Flag Count             0.0\n",
      "RST Flag Count             0.0\n",
      "FIN Flag Count             0.0\n",
      "ACK Flag Count             0.0\n",
      "PSH Flag Count             0.0\n",
      "Flow IAT Mean              0.0\n",
      "Flow IAT Std               0.0\n",
      "Flow IAT Max               0.0\n",
      "Min Packet Length          0.0\n",
      "Max Packet Length          0.0\n",
      "Packet Length Std          0.0\n",
      "Total Fwd Packets          0.0\n",
      "Total Backward Packets     0.0\n",
      "Init_Win_bytes_forward     0.0\n",
      "Init_Win_bytes_backward    0.0\n",
      "Subflow Fwd Packets        0.0\n",
      "Subflow Bwd Packets        0.0\n",
      "dtype: float64\n",
      "Maximum values after scaling:\n",
      "Flow Packets/s             1.0\n",
      "Fwd Packets/s              1.0\n",
      "Bwd Packets/s              1.0\n",
      "SYN Flag Count             1.0\n",
      "RST Flag Count             1.0\n",
      "FIN Flag Count             1.0\n",
      "ACK Flag Count             1.0\n",
      "PSH Flag Count             1.0\n",
      "Flow IAT Mean              1.0\n",
      "Flow IAT Std               1.0\n",
      "Flow IAT Max               1.0\n",
      "Min Packet Length          1.0\n",
      "Max Packet Length          1.0\n",
      "Packet Length Std          1.0\n",
      "Total Fwd Packets          1.0\n",
      "Total Backward Packets     1.0\n",
      "Init_Win_bytes_forward     1.0\n",
      "Init_Win_bytes_backward    1.0\n",
      "Subflow Fwd Packets        1.0\n",
      "Subflow Bwd Packets        1.0\n",
      "dtype: float64\n",
      "Unique values in scaled dataset:\n",
      "[0.0000e+00 1.0000e-05 2.0000e-05 ... 9.9977e-01 9.9980e-01 1.0000e+00]\n"
     ]
    }
   ],
   "source": [
    "# Apply MinMaxScaler\n",
    "scaler = MinMaxScaler()\n",
    "dataset[column] = scaler.fit_transform(dataset[column])\n",
    "\n",
    "# Round to 6 decimals\n",
    "dataset[column] = np.round(dataset[column], decimals=5)\n",
    "\n",
    "# Verify scaling\n",
    "print(\"Minimum values after scaling:\")\n",
    "print(dataset[column].min())\n",
    "print(\"Maximum values after scaling:\")\n",
    "print(dataset[column].max())\n",
    "\n",
    "# Verify unique values\n",
    "print(\"Unique values in scaled dataset:\")\n",
    "print(np.unique(dataset[column].values))"
   ]
  },
  {
   "cell_type": "code",
   "execution_count": 18,
   "metadata": {},
   "outputs": [
    {
     "name": "stdout",
     "output_type": "stream",
     "text": [
      "First 5 rows of normalized dataset:\n",
      "   Flow Packets/s  Fwd Packets/s  Bwd Packets/s  SYN Flag Count  \\\n",
      "0         0.40001        0.00001        0.00002             0.0   \n",
      "1         0.40001        0.00001        0.00002             0.0   \n",
      "2         0.40250        0.00208        0.00312             0.0   \n",
      "3         0.40001        0.00001        0.00002             0.0   \n",
      "4         0.40779        0.00433        0.01299             0.0   \n",
      "\n",
      "   RST Flag Count  FIN Flag Count  ACK Flag Count  PSH Flag Count  \\\n",
      "0             0.0             0.0             0.0             1.0   \n",
      "1             0.0             0.0             0.0             1.0   \n",
      "2             0.0             0.0             1.0             0.0   \n",
      "3             0.0             0.0             0.0             1.0   \n",
      "4             0.0             0.0             1.0             0.0   \n",
      "\n",
      "   Flow IAT Mean  Flow IAT Std  Flow IAT Max  Min Packet Length  \\\n",
      "0        0.00015       0.00123       0.00790                0.0   \n",
      "1        0.00016       0.00124       0.00797                0.0   \n",
      "2        0.00000       0.00000       0.00000                0.0   \n",
      "3        0.00016       0.00126       0.00797                0.0   \n",
      "4        0.00000       0.00000       0.00000                0.0   \n",
      "\n",
      "   Max Packet Length  Packet Length Std  Total Fwd Packets  \\\n",
      "0            0.07007            0.09599            0.01283   \n",
      "1            0.07007            0.09599            0.01283   \n",
      "2            0.00000            0.00000            0.00000   \n",
      "3            0.07007            0.09677            0.01283   \n",
      "4            0.00000            0.00000            0.00000   \n",
      "\n",
      "   Total Backward Packets  Init_Win_bytes_forward  Init_Win_bytes_backward  \\\n",
      "0                 0.01210                 0.44557                  0.00372   \n",
      "1                 0.01210                 0.44557                  0.00372   \n",
      "2                 0.00028                 0.00444                  0.00372   \n",
      "3                 0.01155                 0.44557                  0.00372   \n",
      "4                 0.00055                 0.00372                  0.00444   \n",
      "\n",
      "   Subflow Fwd Packets  Subflow Bwd Packets  \n",
      "0              0.01283              0.01210  \n",
      "1              0.01283              0.01210  \n",
      "2              0.00000              0.00028  \n",
      "3              0.01283              0.01155  \n",
      "4              0.00000              0.00055  \n",
      "Checking min/max values in scaled dataset:\n",
      "Min values: [0. 0. 0. 0. 0. 0. 0. 0. 0. 0. 0. 0. 0. 0. 0. 0. 0. 0. 0. 0.]\n",
      "Max values: [1. 1. 1. 1. 1. 1. 1. 1. 1. 1. 1. 1. 1. 1. 1. 1. 1. 1. 1. 1.]\n"
     ]
    }
   ],
   "source": [
    "print(\"First 5 rows of normalized dataset:\")\n",
    "print(dataset[column].head())\n",
    "\n",
    "print(\"Checking min/max values in scaled dataset:\")\n",
    "print(\"Min values:\", dataset[column].min().values)\n",
    "print(\"Max values:\", dataset[column].max().values)\n"
   ]
  },
  {
   "cell_type": "code",
   "execution_count": 19,
   "metadata": {},
   "outputs": [
    {
     "name": "stderr",
     "output_type": "stream",
     "text": [
      "C:\\Users\\srika\\AppData\\Local\\Temp\\ipykernel_12912\\497236672.py:2: SettingWithCopyWarning: \n",
      "A value is trying to be set on a copy of a slice from a DataFrame.\n",
      "Try using .loc[row_indexer,col_indexer] = value instead\n",
      "\n",
      "See the caveats in the documentation: https://pandas.pydata.org/pandas-docs/stable/user_guide/indexing.html#returning-a-view-versus-a-copy\n",
      "  targeted_dataset['Label'] = target_scaler.fit_transform(targeted_dataset[['Label']])\n"
     ]
    },
    {
     "data": {
      "text/html": [
       "<div>\n",
       "<style scoped>\n",
       "    .dataframe tbody tr th:only-of-type {\n",
       "        vertical-align: middle;\n",
       "    }\n",
       "\n",
       "    .dataframe tbody tr th {\n",
       "        vertical-align: top;\n",
       "    }\n",
       "\n",
       "    .dataframe thead th {\n",
       "        text-align: right;\n",
       "    }\n",
       "</style>\n",
       "<table border=\"1\" class=\"dataframe\">\n",
       "  <thead>\n",
       "    <tr style=\"text-align: right;\">\n",
       "      <th></th>\n",
       "      <th>Label</th>\n",
       "    </tr>\n",
       "  </thead>\n",
       "  <tbody>\n",
       "    <tr>\n",
       "      <th>0</th>\n",
       "      <td>0.0</td>\n",
       "    </tr>\n",
       "    <tr>\n",
       "      <th>1</th>\n",
       "      <td>0.0</td>\n",
       "    </tr>\n",
       "    <tr>\n",
       "      <th>2</th>\n",
       "      <td>0.0</td>\n",
       "    </tr>\n",
       "    <tr>\n",
       "      <th>3</th>\n",
       "      <td>0.0</td>\n",
       "    </tr>\n",
       "    <tr>\n",
       "      <th>4</th>\n",
       "      <td>0.0</td>\n",
       "    </tr>\n",
       "  </tbody>\n",
       "</table>\n",
       "</div>"
      ],
      "text/plain": [
       "   Label\n",
       "0    0.0\n",
       "1    0.0\n",
       "2    0.0\n",
       "3    0.0\n",
       "4    0.0"
      ]
     },
     "execution_count": 19,
     "metadata": {},
     "output_type": "execute_result"
    }
   ],
   "source": [
    "target_scaler = MinMaxScaler()\n",
    "targeted_dataset['Label'] = target_scaler.fit_transform(targeted_dataset[['Label']])\n",
    "targeted_dataset.head()"
   ]
  },
  {
   "cell_type": "code",
   "execution_count": 20,
   "metadata": {},
   "outputs": [
    {
     "name": "stdout",
     "output_type": "stream",
     "text": [
      "Label    1.0\n",
      "Name: 277750, dtype: float64\n"
     ]
    }
   ],
   "source": [
    "print(targeted_dataset.iloc[277750])"
   ]
  },
  {
   "cell_type": "markdown",
   "metadata": {},
   "source": [
    "# Functions to check the File Size "
   ]
  },
  {
   "cell_type": "code",
   "execution_count": 21,
   "metadata": {},
   "outputs": [],
   "source": [
    "def get_file_size(file_path):\n",
    "  size = os.path.getsize(file_path)\n",
    "  return size"
   ]
  },
  {
   "cell_type": "code",
   "execution_count": 22,
   "metadata": {},
   "outputs": [],
   "source": [
    "def convert_bytes(size, unit=None):\n",
    "  if unit == 'KB':\n",
    "    return print(f'File Size is : {size / 1024:.2f} KB')\n",
    "  elif unit == 'MB':\n",
    "    return print(f'File Size is : {size / (1024 * 1024):.2f} MB')"
   ]
  },
  {
   "cell_type": "markdown",
   "metadata": {},
   "source": [
    "# Creating Time Series Sequence & Splitinf the Data"
   ]
  },
  {
   "cell_type": "code",
   "execution_count": 23,
   "metadata": {},
   "outputs": [
    {
     "name": "stdout",
     "output_type": "stream",
     "text": [
      "Shape of X_Sequence: (286081, 15, 20)\n",
      "Values of X_Sequence: [[[4.0001e-01 1.0000e-05 2.0000e-05 ... 3.7200e-03 1.2830e-02 1.2100e-02]\n",
      "  [4.0001e-01 1.0000e-05 2.0000e-05 ... 3.7200e-03 1.2830e-02 1.2100e-02]\n",
      "  [4.0250e-01 2.0800e-03 3.1200e-03 ... 3.7200e-03 0.0000e+00 2.8000e-04]\n",
      "  ...\n",
      "  [6.0000e-01 3.3333e-01 0.0000e+00 ... 0.0000e+00 3.2000e-04 0.0000e+00]\n",
      "  [4.0015e-01 1.8000e-04 1.1000e-04 ... 5.4600e-03 4.4900e-03 1.6500e-03]\n",
      "  [4.0006e-01 4.0000e-05 8.0000e-05 ... 3.5100e-03 5.7700e-03 6.8800e-03]]\n",
      "\n",
      " [[4.0001e-01 1.0000e-05 2.0000e-05 ... 3.7200e-03 1.2830e-02 1.2100e-02]\n",
      "  [4.0250e-01 2.0800e-03 3.1200e-03 ... 3.7200e-03 0.0000e+00 2.8000e-04]\n",
      "  [4.0001e-01 1.0000e-05 2.0000e-05 ... 3.7200e-03 1.2830e-02 1.1550e-02]\n",
      "  ...\n",
      "  [4.0015e-01 1.8000e-04 1.1000e-04 ... 5.4600e-03 4.4900e-03 1.6500e-03]\n",
      "  [4.0006e-01 4.0000e-05 8.0000e-05 ... 3.5100e-03 5.7700e-03 6.8800e-03]\n",
      "  [5.5000e-01 2.5000e-01 0.0000e+00 ... 0.0000e+00 6.4000e-04 0.0000e+00]]\n",
      "\n",
      " [[4.0250e-01 2.0800e-03 3.1200e-03 ... 3.7200e-03 0.0000e+00 2.8000e-04]\n",
      "  [4.0001e-01 1.0000e-05 2.0000e-05 ... 3.7200e-03 1.2830e-02 1.1550e-02]\n",
      "  [4.0779e-01 4.3300e-03 1.2990e-02 ... 4.4400e-03 0.0000e+00 5.5000e-04]\n",
      "  ...\n",
      "  [4.0006e-01 4.0000e-05 8.0000e-05 ... 3.5100e-03 5.7700e-03 6.8800e-03]\n",
      "  [5.5000e-01 2.5000e-01 0.0000e+00 ... 0.0000e+00 6.4000e-04 0.0000e+00]\n",
      "  [4.1333e-01 7.4100e-03 2.2220e-02 ... 3.9100e-03 0.0000e+00 5.5000e-04]]\n",
      "\n",
      " ...\n",
      "\n",
      " [[4.0002e-01 1.0000e-05 2.0000e-05 ... 0.0000e+00 0.0000e+00 2.8000e-04]\n",
      "  [4.0396e-01 3.3000e-03 4.9500e-03 ... 0.0000e+00 3.2000e-04 5.5000e-04]\n",
      "  [4.0011e-01 8.0000e-05 1.5000e-04 ... 9.5000e-04 1.4430e-02 1.5410e-02]\n",
      "  ...\n",
      "  [4.0015e-01 1.1000e-04 2.0000e-04 ... 9.5000e-04 1.5070e-02 1.5410e-02]\n",
      "  [4.0011e-01 8.0000e-05 1.5000e-04 ... 9.5000e-04 1.5390e-02 1.5680e-02]\n",
      "  [4.0006e-01 4.0000e-05 8.0000e-05 ... 9.5000e-04 1.5390e-02 1.6230e-02]]\n",
      "\n",
      " [[4.0396e-01 3.3000e-03 4.9500e-03 ... 0.0000e+00 3.2000e-04 5.5000e-04]\n",
      "  [4.0011e-01 8.0000e-05 1.5000e-04 ... 9.5000e-04 1.4430e-02 1.5410e-02]\n",
      "  [4.0005e-01 6.0000e-05 4.0000e-05 ... 0.0000e+00 9.6000e-04 5.5000e-04]\n",
      "  ...\n",
      "  [4.0011e-01 8.0000e-05 1.5000e-04 ... 9.5000e-04 1.5390e-02 1.5680e-02]\n",
      "  [4.0006e-01 4.0000e-05 8.0000e-05 ... 9.5000e-04 1.5390e-02 1.6230e-02]\n",
      "  [4.0021e-01 1.4000e-04 3.2000e-04 ... 9.5000e-04 2.2130e-02 2.8340e-02]]\n",
      "\n",
      " [[4.0011e-01 8.0000e-05 1.5000e-04 ... 9.5000e-04 1.4430e-02 1.5410e-02]\n",
      "  [4.0005e-01 6.0000e-05 4.0000e-05 ... 0.0000e+00 9.6000e-04 5.5000e-04]\n",
      "  [4.0394e-01 3.2800e-03 4.9300e-03 ... 0.0000e+00 3.2000e-04 5.5000e-04]\n",
      "  ...\n",
      "  [4.0006e-01 4.0000e-05 8.0000e-05 ... 9.5000e-04 1.5390e-02 1.6230e-02]\n",
      "  [4.0021e-01 1.4000e-04 3.2000e-04 ... 9.5000e-04 2.2130e-02 2.8340e-02]\n",
      "  [4.0016e-01 1.2000e-04 2.2000e-04 ... 9.5000e-04 1.5720e-02 1.7060e-02]]]\n",
      "Shape of y_Sequence: (286452, 1)\n",
      "Values of y_Sequence: [[0.]\n",
      " [0.]\n",
      " [0.]\n",
      " ...\n",
      " [0.]\n",
      " [0.]\n",
      " [0.]]\n"
     ]
    }
   ],
   "source": [
    "# Function to create sequences\n",
    "def create_sequences(column_data, time_steps):\n",
    "    X, Y = [], []\n",
    "    for i in range(len(column_data) - time_steps):\n",
    "        X.append(column_data[i:i + time_steps])\n",
    "        Y.append(column_data[i + time_steps])\n",
    "    return np.array(X), np.array(Y).reshape(-1, 1)\n",
    "\n",
    "# Define time steps (e.g., last 25 records to predict the next)\n",
    "column_data = dataset[['Flow Packets/s', 'Fwd Packets/s', 'Bwd Packets/s', 'SYN Flag Count',\n",
    "    'RST Flag Count', 'FIN Flag Count', 'ACK Flag Count', 'PSH Flag Count',\n",
    "    'Flow IAT Mean', 'Flow IAT Std', 'Flow IAT Max', 'Min Packet Length',\n",
    "    'Max Packet Length', 'Packet Length Std', 'Total Fwd Packets',\n",
    "    'Total Backward Packets', 'Init_Win_bytes_forward',\n",
    "    'Init_Win_bytes_backward', 'Subflow Fwd Packets', 'Subflow Bwd Packets']].values\n",
    "time_steps = 15\n",
    "\n",
    "X , _ = create_sequences(column_data, time_steps)\n",
    "\n",
    "targeted_column = targeted_dataset['Label'].values\n",
    "_ , y = create_sequences(targeted_column, time_steps)\n",
    "\n",
    "\n",
    "print(f\"Shape of X_Sequence: {X.shape}\")\n",
    "print(f\"Values of X_Sequence: {X}\")\n",
    "print(f\"Shape of y_Sequence: {y.shape}\")\n",
    "print(f\"Values of y_Sequence: {y}\")\n"
   ]
  },
  {
   "cell_type": "code",
   "execution_count": 24,
   "metadata": {},
   "outputs": [
    {
     "name": "stdout",
     "output_type": "stream",
     "text": [
      "Training data size: 257472, Testing data size: 28609\n",
      "X_train shape: (257472, 15, 20)\n",
      "X_test shape: (28609, 15, 20)\n",
      "y_train shape: (257472, 1)\n",
      "y_test shape: (28609, 1)\n"
     ]
    }
   ],
   "source": [
    "# Ensure X and y have the same number of samples\n",
    "min_length = min(len(X), len(y))\n",
    "X = X[:min_length]\n",
    "y = y[:min_length]\n",
    "\n",
    "# Split the data into training and testing sets\n",
    "train_size = int(len(X) * 0.90)\n",
    "test_size = len(X) - train_size\n",
    "\n",
    "X_train, X_test = X[:train_size], X[train_size:]\n",
    "y_train, y_test = y[:train_size], y[train_size:]\n",
    "\n",
    "# Print shapes to verify\n",
    "print(f\"Training data size: {train_size}, Testing data size: {test_size}\")\n",
    "print(f\"X_train shape: {X_train.shape}\")\n",
    "print(f\"X_test shape: {X_test.shape}\")\n",
    "print(f\"y_train shape: {y_train.shape}\")\n",
    "print(f\"y_test shape: {y_test.shape}\")"
   ]
  },
  {
   "cell_type": "markdown",
   "metadata": {},
   "source": [
    "# Model Creation"
   ]
  },
  {
   "cell_type": "code",
   "execution_count": 25,
   "metadata": {},
   "outputs": [
    {
     "name": "stderr",
     "output_type": "stream",
     "text": [
      "c:\\Users\\srika\\OneDrive\\Desktop\\DeepNet\\env\\Lib\\site-packages\\keras\\src\\layers\\rnn\\rnn.py:200: UserWarning: Do not pass an `input_shape`/`input_dim` argument to a layer. When using Sequential models, prefer using an `Input(shape)` object as the first layer in the model instead.\n",
      "  super().__init__(**kwargs)\n"
     ]
    },
    {
     "data": {
      "text/html": [
       "<pre style=\"white-space:pre;overflow-x:auto;line-height:normal;font-family:Menlo,'DejaVu Sans Mono',consolas,'Courier New',monospace\"><span style=\"font-weight: bold\">Model: \"sequential\"</span>\n",
       "</pre>\n"
      ],
      "text/plain": [
       "\u001b[1mModel: \"sequential\"\u001b[0m\n"
      ]
     },
     "metadata": {},
     "output_type": "display_data"
    },
    {
     "data": {
      "text/html": [
       "<pre style=\"white-space:pre;overflow-x:auto;line-height:normal;font-family:Menlo,'DejaVu Sans Mono',consolas,'Courier New',monospace\">┏━━━━━━━━━━━━━━━━━━━━━━━━━━━━━━━━━┳━━━━━━━━━━━━━━━━━━━━━━━━┳━━━━━━━━━━━━━━━┓\n",
       "┃<span style=\"font-weight: bold\"> Layer (type)                    </span>┃<span style=\"font-weight: bold\"> Output Shape           </span>┃<span style=\"font-weight: bold\">       Param # </span>┃\n",
       "┡━━━━━━━━━━━━━━━━━━━━━━━━━━━━━━━━━╇━━━━━━━━━━━━━━━━━━━━━━━━╇━━━━━━━━━━━━━━━┩\n",
       "│ lstm (<span style=\"color: #0087ff; text-decoration-color: #0087ff\">LSTM</span>)                     │ (<span style=\"color: #00d7ff; text-decoration-color: #00d7ff\">None</span>, <span style=\"color: #00af00; text-decoration-color: #00af00\">15</span>, <span style=\"color: #00af00; text-decoration-color: #00af00\">64</span>)         │        <span style=\"color: #00af00; text-decoration-color: #00af00\">21,760</span> │\n",
       "├─────────────────────────────────┼────────────────────────┼───────────────┤\n",
       "│ batch_normalization             │ (<span style=\"color: #00d7ff; text-decoration-color: #00d7ff\">None</span>, <span style=\"color: #00af00; text-decoration-color: #00af00\">15</span>, <span style=\"color: #00af00; text-decoration-color: #00af00\">64</span>)         │           <span style=\"color: #00af00; text-decoration-color: #00af00\">256</span> │\n",
       "│ (<span style=\"color: #0087ff; text-decoration-color: #0087ff\">BatchNormalization</span>)            │                        │               │\n",
       "├─────────────────────────────────┼────────────────────────┼───────────────┤\n",
       "│ dropout (<span style=\"color: #0087ff; text-decoration-color: #0087ff\">Dropout</span>)               │ (<span style=\"color: #00d7ff; text-decoration-color: #00d7ff\">None</span>, <span style=\"color: #00af00; text-decoration-color: #00af00\">15</span>, <span style=\"color: #00af00; text-decoration-color: #00af00\">64</span>)         │             <span style=\"color: #00af00; text-decoration-color: #00af00\">0</span> │\n",
       "├─────────────────────────────────┼────────────────────────┼───────────────┤\n",
       "│ lstm_1 (<span style=\"color: #0087ff; text-decoration-color: #0087ff\">LSTM</span>)                   │ (<span style=\"color: #00d7ff; text-decoration-color: #00d7ff\">None</span>, <span style=\"color: #00af00; text-decoration-color: #00af00\">64</span>)             │        <span style=\"color: #00af00; text-decoration-color: #00af00\">33,024</span> │\n",
       "├─────────────────────────────────┼────────────────────────┼───────────────┤\n",
       "│ batch_normalization_1           │ (<span style=\"color: #00d7ff; text-decoration-color: #00d7ff\">None</span>, <span style=\"color: #00af00; text-decoration-color: #00af00\">64</span>)             │           <span style=\"color: #00af00; text-decoration-color: #00af00\">256</span> │\n",
       "│ (<span style=\"color: #0087ff; text-decoration-color: #0087ff\">BatchNormalization</span>)            │                        │               │\n",
       "├─────────────────────────────────┼────────────────────────┼───────────────┤\n",
       "│ dropout_1 (<span style=\"color: #0087ff; text-decoration-color: #0087ff\">Dropout</span>)             │ (<span style=\"color: #00d7ff; text-decoration-color: #00d7ff\">None</span>, <span style=\"color: #00af00; text-decoration-color: #00af00\">64</span>)             │             <span style=\"color: #00af00; text-decoration-color: #00af00\">0</span> │\n",
       "├─────────────────────────────────┼────────────────────────┼───────────────┤\n",
       "│ dense (<span style=\"color: #0087ff; text-decoration-color: #0087ff\">Dense</span>)                   │ (<span style=\"color: #00d7ff; text-decoration-color: #00d7ff\">None</span>, <span style=\"color: #00af00; text-decoration-color: #00af00\">64</span>)             │         <span style=\"color: #00af00; text-decoration-color: #00af00\">4,160</span> │\n",
       "├─────────────────────────────────┼────────────────────────┼───────────────┤\n",
       "│ dropout_2 (<span style=\"color: #0087ff; text-decoration-color: #0087ff\">Dropout</span>)             │ (<span style=\"color: #00d7ff; text-decoration-color: #00d7ff\">None</span>, <span style=\"color: #00af00; text-decoration-color: #00af00\">64</span>)             │             <span style=\"color: #00af00; text-decoration-color: #00af00\">0</span> │\n",
       "├─────────────────────────────────┼────────────────────────┼───────────────┤\n",
       "│ dense_1 (<span style=\"color: #0087ff; text-decoration-color: #0087ff\">Dense</span>)                 │ (<span style=\"color: #00d7ff; text-decoration-color: #00d7ff\">None</span>, <span style=\"color: #00af00; text-decoration-color: #00af00\">1</span>)              │            <span style=\"color: #00af00; text-decoration-color: #00af00\">65</span> │\n",
       "└─────────────────────────────────┴────────────────────────┴───────────────┘\n",
       "</pre>\n"
      ],
      "text/plain": [
       "┏━━━━━━━━━━━━━━━━━━━━━━━━━━━━━━━━━┳━━━━━━━━━━━━━━━━━━━━━━━━┳━━━━━━━━━━━━━━━┓\n",
       "┃\u001b[1m \u001b[0m\u001b[1mLayer (type)                   \u001b[0m\u001b[1m \u001b[0m┃\u001b[1m \u001b[0m\u001b[1mOutput Shape          \u001b[0m\u001b[1m \u001b[0m┃\u001b[1m \u001b[0m\u001b[1m      Param #\u001b[0m\u001b[1m \u001b[0m┃\n",
       "┡━━━━━━━━━━━━━━━━━━━━━━━━━━━━━━━━━╇━━━━━━━━━━━━━━━━━━━━━━━━╇━━━━━━━━━━━━━━━┩\n",
       "│ lstm (\u001b[38;5;33mLSTM\u001b[0m)                     │ (\u001b[38;5;45mNone\u001b[0m, \u001b[38;5;34m15\u001b[0m, \u001b[38;5;34m64\u001b[0m)         │        \u001b[38;5;34m21,760\u001b[0m │\n",
       "├─────────────────────────────────┼────────────────────────┼───────────────┤\n",
       "│ batch_normalization             │ (\u001b[38;5;45mNone\u001b[0m, \u001b[38;5;34m15\u001b[0m, \u001b[38;5;34m64\u001b[0m)         │           \u001b[38;5;34m256\u001b[0m │\n",
       "│ (\u001b[38;5;33mBatchNormalization\u001b[0m)            │                        │               │\n",
       "├─────────────────────────────────┼────────────────────────┼───────────────┤\n",
       "│ dropout (\u001b[38;5;33mDropout\u001b[0m)               │ (\u001b[38;5;45mNone\u001b[0m, \u001b[38;5;34m15\u001b[0m, \u001b[38;5;34m64\u001b[0m)         │             \u001b[38;5;34m0\u001b[0m │\n",
       "├─────────────────────────────────┼────────────────────────┼───────────────┤\n",
       "│ lstm_1 (\u001b[38;5;33mLSTM\u001b[0m)                   │ (\u001b[38;5;45mNone\u001b[0m, \u001b[38;5;34m64\u001b[0m)             │        \u001b[38;5;34m33,024\u001b[0m │\n",
       "├─────────────────────────────────┼────────────────────────┼───────────────┤\n",
       "│ batch_normalization_1           │ (\u001b[38;5;45mNone\u001b[0m, \u001b[38;5;34m64\u001b[0m)             │           \u001b[38;5;34m256\u001b[0m │\n",
       "│ (\u001b[38;5;33mBatchNormalization\u001b[0m)            │                        │               │\n",
       "├─────────────────────────────────┼────────────────────────┼───────────────┤\n",
       "│ dropout_1 (\u001b[38;5;33mDropout\u001b[0m)             │ (\u001b[38;5;45mNone\u001b[0m, \u001b[38;5;34m64\u001b[0m)             │             \u001b[38;5;34m0\u001b[0m │\n",
       "├─────────────────────────────────┼────────────────────────┼───────────────┤\n",
       "│ dense (\u001b[38;5;33mDense\u001b[0m)                   │ (\u001b[38;5;45mNone\u001b[0m, \u001b[38;5;34m64\u001b[0m)             │         \u001b[38;5;34m4,160\u001b[0m │\n",
       "├─────────────────────────────────┼────────────────────────┼───────────────┤\n",
       "│ dropout_2 (\u001b[38;5;33mDropout\u001b[0m)             │ (\u001b[38;5;45mNone\u001b[0m, \u001b[38;5;34m64\u001b[0m)             │             \u001b[38;5;34m0\u001b[0m │\n",
       "├─────────────────────────────────┼────────────────────────┼───────────────┤\n",
       "│ dense_1 (\u001b[38;5;33mDense\u001b[0m)                 │ (\u001b[38;5;45mNone\u001b[0m, \u001b[38;5;34m1\u001b[0m)              │            \u001b[38;5;34m65\u001b[0m │\n",
       "└─────────────────────────────────┴────────────────────────┴───────────────┘\n"
      ]
     },
     "metadata": {},
     "output_type": "display_data"
    },
    {
     "data": {
      "text/html": [
       "<pre style=\"white-space:pre;overflow-x:auto;line-height:normal;font-family:Menlo,'DejaVu Sans Mono',consolas,'Courier New',monospace\"><span style=\"font-weight: bold\"> Total params: </span><span style=\"color: #00af00; text-decoration-color: #00af00\">59,521</span> (232.50 KB)\n",
       "</pre>\n"
      ],
      "text/plain": [
       "\u001b[1m Total params: \u001b[0m\u001b[38;5;34m59,521\u001b[0m (232.50 KB)\n"
      ]
     },
     "metadata": {},
     "output_type": "display_data"
    },
    {
     "data": {
      "text/html": [
       "<pre style=\"white-space:pre;overflow-x:auto;line-height:normal;font-family:Menlo,'DejaVu Sans Mono',consolas,'Courier New',monospace\"><span style=\"font-weight: bold\"> Trainable params: </span><span style=\"color: #00af00; text-decoration-color: #00af00\">59,265</span> (231.50 KB)\n",
       "</pre>\n"
      ],
      "text/plain": [
       "\u001b[1m Trainable params: \u001b[0m\u001b[38;5;34m59,265\u001b[0m (231.50 KB)\n"
      ]
     },
     "metadata": {},
     "output_type": "display_data"
    },
    {
     "data": {
      "text/html": [
       "<pre style=\"white-space:pre;overflow-x:auto;line-height:normal;font-family:Menlo,'DejaVu Sans Mono',consolas,'Courier New',monospace\"><span style=\"font-weight: bold\"> Non-trainable params: </span><span style=\"color: #00af00; text-decoration-color: #00af00\">256</span> (1.00 KB)\n",
       "</pre>\n"
      ],
      "text/plain": [
       "\u001b[1m Non-trainable params: \u001b[0m\u001b[38;5;34m256\u001b[0m (1.00 KB)\n"
      ]
     },
     "metadata": {},
     "output_type": "display_data"
    }
   ],
   "source": [
    "import tensorflow as tf\n",
    "from tensorflow.keras.models import Sequential\n",
    "from tensorflow.keras.layers import LSTM, Dense, Dropout, BatchNormalization\n",
    "from tensorflow.keras.regularizers import l2\n",
    "from tensorflow.keras.optimizers import Adam\n",
    "from tensorflow.keras.callbacks import EarlyStopping, ReduceLROnPlateau\n",
    "\n",
    "\n",
    "# Define model\n",
    "model = Sequential()\n",
    "\n",
    "# First LSTM layer with dropout and regularization\n",
    "model.add(LSTM(64, return_sequences=True, kernel_regularizer=l2(0.0005), input_shape=(time_steps, 20)))\n",
    "model.add(BatchNormalization())\n",
    "model.add(Dropout(0.25))\n",
    "\n",
    "# Second LSTM layer\n",
    "model.add(LSTM(64, return_sequences=False, kernel_regularizer=l2(0.0005)))\n",
    "model.add(BatchNormalization())\n",
    "model.add(Dropout(0.25))\n",
    "\n",
    "# Fully connected layer\n",
    "model.add(Dense(64, activation='relu', kernel_regularizer=l2(0.0005)))\n",
    "model.add(Dropout(0.25))\n",
    "\n",
    "# Output layer\n",
    "model.add(Dense(1, activation='sigmoid'))\n",
    "\n",
    "# Compile model\n",
    "model.compile(optimizer=Adam(learning_rate=0.001),\n",
    "              loss='binary_crossentropy',\n",
    "              metrics=['accuracy'])\n",
    "\n",
    "# Early stopping & LR scheduler\n",
    "early_stopping = EarlyStopping(monitor='val_loss', patience=10, min_delta=0.0001, restore_best_weights=True)\n",
    "lr_scheduler = ReduceLROnPlateau(monitor='val_loss', factor=0.5, patience=5, verbose=1)\n",
    "\n",
    "# Print model summary\n",
    "model.summary()\n"
   ]
  },
  {
   "cell_type": "code",
   "execution_count": 96,
   "metadata": {},
   "outputs": [
    {
     "name": "stdout",
     "output_type": "stream",
     "text": [
      "Epoch 1/50\n",
      "\u001b[1m3219/3219\u001b[0m \u001b[32m━━━━━━━━━━━━━━━━━━━━\u001b[0m\u001b[37m\u001b[0m \u001b[1m52s\u001b[0m 15ms/step - accuracy: 0.9743 - loss: 0.1635 - val_accuracy: 0.8712 - val_loss: 0.5576 - learning_rate: 0.0010\n",
      "Epoch 2/50\n",
      "\u001b[1m3219/3219\u001b[0m \u001b[32m━━━━━━━━━━━━━━━━━━━━\u001b[0m\u001b[37m\u001b[0m \u001b[1m45s\u001b[0m 14ms/step - accuracy: 0.9798 - loss: 0.1058 - val_accuracy: 0.8717 - val_loss: 0.5852 - learning_rate: 0.0010\n",
      "Epoch 3/50\n",
      "\u001b[1m3219/3219\u001b[0m \u001b[32m━━━━━━━━━━━━━━━━━━━━\u001b[0m\u001b[37m\u001b[0m \u001b[1m44s\u001b[0m 14ms/step - accuracy: 0.9803 - loss: 0.1000 - val_accuracy: 0.8714 - val_loss: 0.5744 - learning_rate: 0.0010\n",
      "Epoch 4/50\n",
      "\u001b[1m3219/3219\u001b[0m \u001b[32m━━━━━━━━━━━━━━━━━━━━\u001b[0m\u001b[37m\u001b[0m \u001b[1m45s\u001b[0m 14ms/step - accuracy: 0.9803 - loss: 0.0975 - val_accuracy: 0.8712 - val_loss: 0.5557 - learning_rate: 0.0010\n",
      "Epoch 5/50\n",
      "\u001b[1m3219/3219\u001b[0m \u001b[32m━━━━━━━━━━━━━━━━━━━━\u001b[0m\u001b[37m\u001b[0m \u001b[1m46s\u001b[0m 14ms/step - accuracy: 0.9806 - loss: 0.0973 - val_accuracy: 0.8710 - val_loss: 0.5796 - learning_rate: 0.0010\n",
      "Epoch 6/50\n",
      "\u001b[1m3219/3219\u001b[0m \u001b[32m━━━━━━━━━━━━━━━━━━━━\u001b[0m\u001b[37m\u001b[0m \u001b[1m44s\u001b[0m 14ms/step - accuracy: 0.9805 - loss: 0.0961 - val_accuracy: 0.8716 - val_loss: 0.5762 - learning_rate: 0.0010\n",
      "Epoch 7/50\n",
      "\u001b[1m3219/3219\u001b[0m \u001b[32m━━━━━━━━━━━━━━━━━━━━\u001b[0m\u001b[37m\u001b[0m \u001b[1m45s\u001b[0m 14ms/step - accuracy: 0.9795 - loss: 0.1002 - val_accuracy: 0.8721 - val_loss: 0.5532 - learning_rate: 0.0010\n",
      "Epoch 8/50\n",
      "\u001b[1m3219/3219\u001b[0m \u001b[32m━━━━━━━━━━━━━━━━━━━━\u001b[0m\u001b[37m\u001b[0m \u001b[1m44s\u001b[0m 14ms/step - accuracy: 0.9809 - loss: 0.0943 - val_accuracy: 0.8717 - val_loss: 0.6156 - learning_rate: 0.0010\n",
      "Epoch 9/50\n",
      "\u001b[1m3219/3219\u001b[0m \u001b[32m━━━━━━━━━━━━━━━━━━━━\u001b[0m\u001b[37m\u001b[0m \u001b[1m45s\u001b[0m 14ms/step - accuracy: 0.9803 - loss: 0.0959 - val_accuracy: 0.8709 - val_loss: 0.5658 - learning_rate: 0.0010\n",
      "Epoch 10/50\n",
      "\u001b[1m3219/3219\u001b[0m \u001b[32m━━━━━━━━━━━━━━━━━━━━\u001b[0m\u001b[37m\u001b[0m \u001b[1m44s\u001b[0m 14ms/step - accuracy: 0.9802 - loss: 0.0960 - val_accuracy: 0.8721 - val_loss: 0.5701 - learning_rate: 0.0010\n",
      "Epoch 11/50\n",
      "\u001b[1m3219/3219\u001b[0m \u001b[32m━━━━━━━━━━━━━━━━━━━━\u001b[0m\u001b[37m\u001b[0m \u001b[1m46s\u001b[0m 14ms/step - accuracy: 0.9812 - loss: 0.0929 - val_accuracy: 0.8704 - val_loss: 0.5689 - learning_rate: 0.0010\n",
      "Epoch 12/50\n",
      "\u001b[1m3218/3219\u001b[0m \u001b[32m━━━━━━━━━━━━━━━━━━━\u001b[0m\u001b[37m━\u001b[0m \u001b[1m0s\u001b[0m 12ms/step - accuracy: 0.9804 - loss: 0.0957\n",
      "Epoch 12: ReduceLROnPlateau reducing learning rate to 0.0005000000237487257.\n",
      "\u001b[1m3219/3219\u001b[0m \u001b[32m━━━━━━━━━━━━━━━━━━━━\u001b[0m\u001b[37m\u001b[0m \u001b[1m44s\u001b[0m 14ms/step - accuracy: 0.9804 - loss: 0.0957 - val_accuracy: 0.8722 - val_loss: 0.6442 - learning_rate: 0.0010\n",
      "Epoch 13/50\n",
      "\u001b[1m3219/3219\u001b[0m \u001b[32m━━━━━━━━━━━━━━━━━━━━\u001b[0m\u001b[37m\u001b[0m \u001b[1m45s\u001b[0m 14ms/step - accuracy: 0.9816 - loss: 0.0895 - val_accuracy: 0.8720 - val_loss: 0.5691 - learning_rate: 5.0000e-04\n",
      "Epoch 14/50\n",
      "\u001b[1m3219/3219\u001b[0m \u001b[32m━━━━━━━━━━━━━━━━━━━━\u001b[0m\u001b[37m\u001b[0m \u001b[1m45s\u001b[0m 14ms/step - accuracy: 0.9815 - loss: 0.0909 - val_accuracy: 0.8727 - val_loss: 0.5747 - learning_rate: 5.0000e-04\n",
      "Epoch 15/50\n",
      "\u001b[1m3219/3219\u001b[0m \u001b[32m━━━━━━━━━━━━━━━━━━━━\u001b[0m\u001b[37m\u001b[0m \u001b[1m44s\u001b[0m 14ms/step - accuracy: 0.9814 - loss: 0.0909 - val_accuracy: 0.8722 - val_loss: 0.5791 - learning_rate: 5.0000e-04\n",
      "Epoch 16/50\n",
      "\u001b[1m3219/3219\u001b[0m \u001b[32m━━━━━━━━━━━━━━━━━━━━\u001b[0m\u001b[37m\u001b[0m \u001b[1m44s\u001b[0m 14ms/step - accuracy: 0.9810 - loss: 0.0921 - val_accuracy: 0.8725 - val_loss: 0.5787 - learning_rate: 5.0000e-04\n",
      "Epoch 17/50\n",
      "\u001b[1m3217/3219\u001b[0m \u001b[32m━━━━━━━━━━━━━━━━━━━\u001b[0m\u001b[37m━\u001b[0m \u001b[1m0s\u001b[0m 12ms/step - accuracy: 0.9814 - loss: 0.0908\n",
      "Epoch 17: ReduceLROnPlateau reducing learning rate to 0.0002500000118743628.\n",
      "\u001b[1m3219/3219\u001b[0m \u001b[32m━━━━━━━━━━━━━━━━━━━━\u001b[0m\u001b[37m\u001b[0m \u001b[1m44s\u001b[0m 14ms/step - accuracy: 0.9814 - loss: 0.0908 - val_accuracy: 0.8727 - val_loss: 0.5598 - learning_rate: 5.0000e-04\n"
     ]
    }
   ],
   "source": [
    "history = model.fit(\n",
    "    X_train, y_train,\n",
    "    validation_split=0.2,\n",
    "    epochs=50,\n",
    "    batch_size=64,\n",
    "    callbacks=[early_stopping, lr_scheduler],\n",
    "    verbose=1\n",
    ")\n"
   ]
  },
  {
   "cell_type": "markdown",
   "metadata": {},
   "source": [
    "# Predicting the Model"
   ]
  },
  {
   "cell_type": "code",
   "execution_count": 26,
   "metadata": {},
   "outputs": [
    {
     "name": "stdout",
     "output_type": "stream",
     "text": [
      "\u001b[1m895/895\u001b[0m \u001b[32m━━━━━━━━━━━━━━━━━━━━\u001b[0m\u001b[37m\u001b[0m \u001b[1m5s\u001b[0m 5ms/step\n",
      "       Train Predictions  Actuals\n",
      "0                      0      0.0\n",
      "1                      0      0.0\n",
      "2                      0      0.0\n",
      "3                      0      0.0\n",
      "4                      0      0.0\n",
      "...                  ...      ...\n",
      "28604                  0      0.0\n",
      "28605                  0      0.0\n",
      "28606                  0      0.0\n",
      "28607                  0      0.0\n",
      "28608                  0      0.0\n",
      "\n",
      "[28609 rows x 2 columns]\n"
     ]
    }
   ],
   "source": [
    "# Get model predictions\n",
    "train_predictions = model1.predict(X_test)\n",
    "\n",
    "# Rescale predictions and reshape to (28609, 1)\n",
    "train_prediction = target_scaler.inverse_transform(train_predictions).reshape(-1, 1)\n",
    "\n",
    "# Rescale actual values and reshape to (28609, 1)\n",
    "y = target_scaler.inverse_transform(y_test.reshape(-1, 1)).reshape(-1, 1)\n",
    "\n",
    "# Convert predictions to 0 or 1 based on threshold\n",
    "binary_predictions = np.where(train_prediction <= 0.5, 0, 1)\n",
    "\n",
    "# Store results in DataFrame\n",
    "train_results = pd.DataFrame(data={\n",
    "    'Train Predictions': binary_predictions.flatten(),  # flatten for a clean DataFrame\n",
    "    'Actuals': y.flatten()\n",
    "})\n",
    "\n",
    "print(train_results)"
   ]
  },
  {
   "cell_type": "code",
   "execution_count": 111,
   "metadata": {},
   "outputs": [
    {
     "name": "stdout",
     "output_type": "stream",
     "text": [
      "Shape of train_prediction: (28609, 1)\n",
      "Shape of y: (28609, 1)\n"
     ]
    }
   ],
   "source": [
    "print(f\"Shape of train_prediction: {train_prediction.shape}\")\n",
    "print(f\"Shape of y: {y.shape}\")"
   ]
  },
  {
   "cell_type": "markdown",
   "metadata": {},
   "source": [
    "# Model Accuracy and Loss Values"
   ]
  },
  {
   "cell_type": "code",
   "execution_count": 112,
   "metadata": {},
   "outputs": [
    {
     "name": "stdout",
     "output_type": "stream",
     "text": [
      "\u001b[1m895/895\u001b[0m \u001b[32m━━━━━━━━━━━━━━━━━━━━\u001b[0m\u001b[37m\u001b[0m \u001b[1m6s\u001b[0m 5ms/step - accuracy: 0.5474 - loss: 0.7944\n",
      "Test Loss: [0.7942207455635071, 0.5728616714477539]\n"
     ]
    }
   ],
   "source": [
    "loss = model.evaluate(X_test, y_test)\n",
    "print(f'Test Loss: {loss}')"
   ]
  },
  {
   "cell_type": "code",
   "execution_count": 113,
   "metadata": {},
   "outputs": [
    {
     "name": "stdout",
     "output_type": "stream",
     "text": [
      "Accuracy: 0.5729\n",
      "\n",
      "Classification Report:\n",
      "              precision    recall  f1-score   support\n",
      "\n",
      "         0.0       0.86      0.45      0.59     19582\n",
      "         1.0       0.41      0.84      0.55      9027\n",
      "\n",
      "    accuracy                           0.57     28609\n",
      "   macro avg       0.63      0.64      0.57     28609\n",
      "weighted avg       0.72      0.57      0.58     28609\n",
      "\n"
     ]
    }
   ],
   "source": [
    "from sklearn.metrics import accuracy_score, classification_report, confusion_matrix\n",
    "\n",
    "# Accuracy score\n",
    "accuracy = accuracy_score(y_true=y.flatten(), y_pred=binary_predictions.flatten())\n",
    "print(f\"Accuracy: {accuracy:.4f}\")\n",
    "\n",
    "# Classification report (optional - shows precision, recall, F1-score)\n",
    "print(\"\\nClassification Report:\")\n",
    "print(classification_report(y.flatten(), binary_predictions.flatten()))\n"
   ]
  },
  {
   "cell_type": "code",
   "execution_count": 114,
   "metadata": {},
   "outputs": [
    {
     "data": {
      "image/png": "[encoded data removed]",
      "text/plain": [
       "<Figure size 640x480 with 1 Axes>"
      ]
     },
     "metadata": {},
     "output_type": "display_data"
    }
   ],
   "source": [
    "# Plot the Loss Graph\n",
    "plt.title('model loss')\n",
    "plt.ylabel('loss')\n",
    "plt.xlabel('epoch')\n",
    "plt.plot(history.history['loss'])\n",
    "plt.plot(history.history['val_loss'])\n",
    "plt.legend(['train', 'test'], loc='upper left')\n",
    "plt.show()"
   ]
  },
  {
   "cell_type": "code",
   "execution_count": 115,
   "metadata": {},
   "outputs": [
    {
     "data": {
      "image/png": "[encoded data removed]",
      "text/plain": [
       "<Figure size 1200x600 with 1 Axes>"
      ]
     },
     "metadata": {},
     "output_type": "display_data"
    }
   ],
   "source": [
    "# Plot the predictions vs actual values\n",
    "plt.figure(figsize=(12, 6))\n",
    "plt.plot(y, label='Actual Values', color='blue', alpha=0.7)\n",
    "plt.plot(train_prediction, label='Predicted Values', color='red', alpha=0.7)\n",
    "plt.title('Predictions vs Actual Values')\n",
    "plt.xlabel('Sample Index')\n",
    "plt.ylabel('Values')\n",
    "plt.legend()\n",
    "plt.grid(True)\n",
    "plt.show()"
   ]
  },
  {
   "cell_type": "code",
   "execution_count": 116,
   "metadata": {},
   "outputs": [
    {
     "name": "stdout",
     "output_type": "stream",
     "text": [
      "RMSE: 0.4994334788859237\n",
      "MAE: 0.4994254964936546\n",
      "MAPE: 0.9976468664002563\n"
     ]
    }
   ],
   "source": [
    "rmse = math.sqrt(mean_squared_error(y, train_prediction))\n",
    "mae = mean_absolute_error(y, train_prediction)\n",
    "mape = mean_absolute_percentage_error(train_prediction, y)\n",
    "print('RMSE:', rmse)\n",
    "print('MAE:', mae)\n",
    "print('MAPE:', mape)"
   ]
  },
  {
   "cell_type": "markdown",
   "metadata": {},
   "source": [
    "# Model Saving"
   ]
  },
  {
   "cell_type": "code",
   "execution_count": 104,
   "metadata": {},
   "outputs": [
    {
     "name": "stderr",
     "output_type": "stream",
     "text": [
      "WARNING:absl:You are saving your model as an HDF5 file via `model.save()` or `keras.saving.save_model(model)`. This file format is considered legacy. We recommend using instead the native Keras format, e.g. `model.save('my_model.keras')` or `keras.saving.save_model(model, 'my_model.keras')`. \n"
     ]
    }
   ],
   "source": [
    "model.save(r'C:\\Users\\srika\\OneDrive\\Desktop\\DeepNet\\h5\\Port_Model.h5')"
   ]
  },
  {
   "cell_type": "code",
   "execution_count": 6,
   "metadata": {},
   "outputs": [
    {
     "name": "stdout",
     "output_type": "stream",
     "text": [
      "File Size is : 759.72 KB\n"
     ]
    }
   ],
   "source": [
    "convert_bytes(get_file_size(r'C:\\Users\\srika\\OneDrive\\Desktop\\DeepNet\\h5\\Port_Model.h5'), 'KB')"
   ]
  },
  {
   "cell_type": "code",
   "execution_count": 7,
   "metadata": {},
   "outputs": [
    {
     "name": "stderr",
     "output_type": "stream",
     "text": [
      "WARNING:absl:Compiled the loaded model, but the compiled metrics have yet to be built. `model.compile_metrics` will be empty until you train or evaluate the model.\n"
     ]
    }
   ],
   "source": [
    "model1 = load_model(r'C:\\Users\\srika\\OneDrive\\Desktop\\DeepNet\\h5\\Port_Model.h5')"
   ]
  },
  {
   "cell_type": "markdown",
   "metadata": {},
   "source": [
    "# Tensor Flow Model Creation"
   ]
  },
  {
   "cell_type": "code",
   "execution_count": 27,
   "metadata": {},
   "outputs": [
    {
     "name": "stdout",
     "output_type": "stream",
     "text": [
      "INFO:tensorflow:Assets written to: C:\\Users\\srika\\AppData\\Local\\Temp\\tmpr6ce96n6\\assets\n"
     ]
    },
    {
     "name": "stderr",
     "output_type": "stream",
     "text": [
      "INFO:tensorflow:Assets written to: C:\\Users\\srika\\AppData\\Local\\Temp\\tmpr6ce96n6\\assets\n"
     ]
    },
    {
     "name": "stdout",
     "output_type": "stream",
     "text": [
      "Saved artifact at 'C:\\Users\\srika\\AppData\\Local\\Temp\\tmpr6ce96n6'. The following endpoints are available:\n",
      "\n",
      "* Endpoint 'serve'\n",
      "  args_0 (POSITIONAL_ONLY): TensorSpec(shape=(None, 15, 20), dtype=tf.float32, name='input_layer_12')\n",
      "Output Type:\n",
      "  TensorSpec(shape=(None, 1), dtype=tf.float32, name=None)\n",
      "Captures:\n",
      "  2253118114128: TensorSpec(shape=(), dtype=tf.resource, name=None)\n",
      "  2253118116240: TensorSpec(shape=(), dtype=tf.resource, name=None)\n",
      "  2253118116048: TensorSpec(shape=(), dtype=tf.resource, name=None)\n",
      "  2253118115280: TensorSpec(shape=(), dtype=tf.resource, name=None)\n",
      "  2253118115856: TensorSpec(shape=(), dtype=tf.resource, name=None)\n",
      "  2253118117776: TensorSpec(shape=(), dtype=tf.resource, name=None)\n",
      "  2253118115664: TensorSpec(shape=(), dtype=tf.resource, name=None)\n",
      "  2253118120080: TensorSpec(shape=(), dtype=tf.resource, name=None)\n",
      "  2253118122000: TensorSpec(shape=(), dtype=tf.resource, name=None)\n",
      "  2253118122576: TensorSpec(shape=(), dtype=tf.resource, name=None)\n",
      "  2253118121424: TensorSpec(shape=(), dtype=tf.resource, name=None)\n",
      "  2253118121040: TensorSpec(shape=(), dtype=tf.resource, name=None)\n",
      "  2253118122192: TensorSpec(shape=(), dtype=tf.resource, name=None)\n",
      "  2253118120272: TensorSpec(shape=(), dtype=tf.resource, name=None)\n",
      "  2253118121616: TensorSpec(shape=(), dtype=tf.resource, name=None)\n",
      "  2253118124880: TensorSpec(shape=(), dtype=tf.resource, name=None)\n",
      "  2253118124496: TensorSpec(shape=(), dtype=tf.resource, name=None)\n",
      "  2253118126224: TensorSpec(shape=(), dtype=tf.resource, name=None)\n"
     ]
    }
   ],
   "source": [
    "converter = tf.lite.TFLiteConverter.from_keras_model(model1)\n",
    "converter.optimizations = [tf.lite.Optimize.DEFAULT]\n",
    "converter.target_spec.supported_ops = [\n",
    "    tf.lite.OpsSet.TFLITE_BUILTINS,\n",
    "    tf.lite.OpsSet.SELECT_TF_OPS\n",
    "]\n",
    "converter._experimental_lower_tensor_list_ops = False\n",
    "tflite_model = converter.convert()\n",
    "\n",
    "with open(r'C:\\Users\\srika\\OneDrive\\Desktop\\DeepNet\\tflites\\port_scan_model.tflite', 'wb') as f:\n",
    "    f.write(tflite_model)"
   ]
  },
  {
   "cell_type": "markdown",
   "metadata": {},
   "source": [
    "# Predicting the Model Using the Tflite Model"
   ]
  },
  {
   "cell_type": "code",
   "execution_count": 29,
   "metadata": {},
   "outputs": [
    {
     "name": "stderr",
     "output_type": "stream",
     "text": [
      "c:\\Users\\srika\\OneDrive\\Desktop\\DeepNet\\env\\Lib\\site-packages\\tensorflow\\lite\\python\\interpreter.py:457: UserWarning:     Warning: tf.lite.Interpreter is deprecated and is scheduled for deletion in\n",
      "    TF 2.20. Please use the LiteRT interpreter from the ai_edge_litert package.\n",
      "    See the [migration guide](https://ai.google.dev/edge/litert/migration)\n",
      "    for details.\n",
      "    \n",
      "  warnings.warn(_INTERPRETER_DELETION_WARNING)\n"
     ]
    },
    {
     "name": "stdout",
     "output_type": "stream",
     "text": [
      "[{'name': 'serving_default_input_layer_12:0', 'index': 0, 'shape': array([ 1, 15, 20], dtype=int32), 'shape_signature': array([-1, 15, 20], dtype=int32), 'dtype': <class 'numpy.float32'>, 'quantization': (0.0, 0), 'quantization_parameters': {'scales': array([], dtype=float32), 'zero_points': array([], dtype=int32), 'quantized_dimension': 0}, 'sparsity_parameters': {}}]\n",
      "[{'name': 'StatefulPartitionedCall_1:0', 'index': 51, 'shape': array([1, 1], dtype=int32), 'shape_signature': array([-1,  1], dtype=int32), 'dtype': <class 'numpy.float32'>, 'quantization': (0.0, 0), 'quantization_parameters': {'scales': array([], dtype=float32), 'zero_points': array([], dtype=int32), 'quantized_dimension': 0}, 'sparsity_parameters': {}}]\n",
      "       Predictions  Actuals\n",
      "0         0.006368      0.0\n",
      "1         0.006570      0.0\n",
      "2         0.005641      0.0\n",
      "3         0.006186      0.0\n",
      "4         0.005995      0.0\n",
      "...            ...      ...\n",
      "28604     0.009937      0.0\n",
      "28605     0.007463      0.0\n",
      "28606     0.005221      0.0\n",
      "28607     0.005357      0.0\n",
      "28608     0.006358      0.0\n",
      "\n",
      "[28609 rows x 2 columns]\n"
     ]
    }
   ],
   "source": [
    "interpreter = tf.lite.Interpreter(model_path=r'C:\\Users\\srika\\OneDrive\\Desktop\\DeepNet\\tflites\\port_scan_model.tflite')\n",
    "\n",
    "interpreter.allocate_tensors()\n",
    "\n",
    "input_details = interpreter.get_input_details()\n",
    "output_details = interpreter.get_output_details()\n",
    "\n",
    "predicted_values = []\n",
    "true_values = []\n",
    "\n",
    "print(input_details)\n",
    "print(output_details)\n",
    "\n",
    "for i in range(len(X_test)):\n",
    "    cnn_input_data = np.expand_dims(X_test[i], axis=0).astype(np.float32)\n",
    "    interpreter.set_tensor(input_details[0]['index'], cnn_input_data)\n",
    "    interpreter.invoke()\n",
    "\n",
    "    output_data = interpreter.get_tensor(output_details[0]['index'])\n",
    "\n",
    "    predicted_values.append(output_data[0][0])\n",
    "    true_values.append(y_test[i])\n",
    "\n",
    "predicted_values = np.array(predicted_values)\n",
    "true_values = np.array(true_values)\n",
    "\n",
    "\n",
    "predicted_values_reshaped = predicted_values.reshape(-1, 1)\n",
    "predictions_rescaled = target_scaler.inverse_transform(predicted_values_reshaped).flatten()\n",
    "\n",
    "y_test_reshaped = true_values.reshape(-1, 1)\n",
    "y_test_rescaled = target_scaler.inverse_transform(y_test_reshaped).flatten()\n",
    "\n",
    "results = pd.DataFrame(data={'Predictions': predictions_rescaled, 'Actuals': y_test_rescaled})\n",
    "print(results)"
   ]
  },
  {
   "cell_type": "code",
   "execution_count": 30,
   "metadata": {},
   "outputs": [
    {
     "name": "stdout",
     "output_type": "stream",
     "text": [
      "Optimized RMSE: 0.4075004298825435\n",
      "Optimized MAE: 0.17990956137792719\n",
      "Optimized MAPE: 13.357912838729668\n"
     ]
    }
   ],
   "source": [
    "optimized_rmse = math.sqrt(mean_squared_error(y_test_rescaled, predictions_rescaled))\n",
    "optimized_mae = mean_absolute_error(y_test_rescaled, predictions_rescaled)\n",
    "optimized_mape = mean_absolute_percentage_error(predictions_rescaled, y_test_rescaled)\n",
    "\n",
    "print(\"Optimized RMSE:\", optimized_rmse)\n",
    "print(\"Optimized MAE:\", optimized_mae)\n",
    "print(\"Optimized MAPE:\", optimized_mape)"
   ]
  },
  {
   "cell_type": "code",
   "execution_count": 31,
   "metadata": {},
   "outputs": [
    {
     "data": {
      "image/png": "[encoded data removed]",
      "text/plain": [
       "<Figure size 1200x600 with 1 Axes>"
      ]
     },
     "metadata": {},
     "output_type": "display_data"
    }
   ],
   "source": [
    "# Plot the predictions vs actual values\n",
    "plt.figure(figsize=(12, 6))\n",
    "plt.plot(y_test_rescaled, label='Actual Values', color='blue', alpha=0.7)\n",
    "plt.plot(predictions_rescaled, label='Predicted Values', color='red', alpha=0.7)\n",
    "plt.title('Predictions vs Actual Values')\n",
    "plt.xlabel('Sample Index')\n",
    "plt.ylabel('Values')\n",
    "plt.legend()\n",
    "plt.grid(True)\n",
    "plt.show()"
   ]
  }
 ],
 "metadata": {
  "kernelspec": {
   "display_name": "env",
   "language": "python",
   "name": "python3"
  },
  "language_info": {
   "codemirror_mode": {
    "name": "ipython",
    "version": 3
   },
   "file_extension": ".py",
   "mimetype": "text/x-python",
   "name": "python",
   "nbconvert_exporter": "python",
   "pygments_lexer": "ipython3",
   "version": "3.12.10"
  }
 },
 "nbformat": 4,
 "nbformat_minor": 2
}
